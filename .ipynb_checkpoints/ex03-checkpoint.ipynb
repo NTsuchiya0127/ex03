{
 "cells": [
  {
   "cell_type": "markdown",
   "metadata": {},
   "source": [
    "# 7.6.3 Asset Replacement with Maintenance"
   ]
  },
  {
   "cell_type": "code",
   "execution_count": 1,
   "metadata": {
    "collapsed": false
   },
   "outputs": [
    {
     "data": {
      "text/plain": [
       "3"
      ]
     },
     "execution_count": 1,
     "metadata": {},
     "output_type": "execute_result"
    }
   ],
   "source": [
    "maxage = 5    # Maximum asset age\n",
    "repcost = 75  # Replacement cost\n",
    "mancost = 10  # Maintainance cost\n",
    "beta = 0.9    # Discount factor\n",
    "m = 3         # Number of actions; 1: keep, 2: service, 3: replace"
   ]
  },
  {
   "cell_type": "code",
   "execution_count": 2,
   "metadata": {
    "collapsed": false
   },
   "outputs": [
    {
     "data": {
      "text/plain": [
       "25-element Array{Tuple{Int64,Int64},1}:\n",
       " (1, 0)\n",
       " (1, 1)\n",
       " (1, 2)\n",
       " (1, 3)\n",
       " (1, 4)\n",
       " (2, 0)\n",
       " (2, 1)\n",
       " (2, 2)\n",
       " (2, 3)\n",
       " (2, 4)\n",
       " (3, 0)\n",
       " (3, 1)\n",
       " (3, 2)\n",
       " (3, 3)\n",
       " (3, 4)\n",
       " (4, 0)\n",
       " (4, 1)\n",
       " (4, 2)\n",
       " (4, 3)\n",
       " (4, 4)\n",
       " (5, 0)\n",
       " (5, 1)\n",
       " (5, 2)\n",
       " (5, 3)\n",
       " (5, 4)"
      ]
     },
     "execution_count": 2,
     "metadata": {},
     "output_type": "execute_result"
    }
   ],
   "source": [
    "S = vec([(j, i) for i = 0:maxage-1, j = 1:maxage])\n",
    "S   # State space"
   ]
  },
  {
   "cell_type": "code",
   "execution_count": 3,
   "metadata": {
    "collapsed": false
   },
   "outputs": [
    {
     "data": {
      "text/plain": [
       "25"
      ]
     },
     "execution_count": 3,
     "metadata": {},
     "output_type": "execute_result"
    }
   ],
   "source": [
    "n = length(S)   # Number of states"
   ]
  },
  {
   "cell_type": "code",
   "execution_count": 4,
   "metadata": {
    "collapsed": false
   },
   "outputs": [
    {
     "data": {
      "text/plain": [
       "getindex_0 (generic function with 1 method)"
      ]
     },
     "execution_count": 4,
     "metadata": {},
     "output_type": "execute_result"
    }
   ],
   "source": [
    "\n",
    "function getindex_0(age, serv, S)\n",
    "    for i in 1:n\n",
    "        if S[i][1] == age && S[i][2] == serv\n",
    "            return i\n",
    "        end\n",
    "    end\n",
    "end"
   ]
  },
  {
   "cell_type": "code",
   "execution_count": 5,
   "metadata": {
    "collapsed": false
   },
   "outputs": [
    {
     "data": {
      "text/plain": [
       "7"
      ]
     },
     "execution_count": 5,
     "metadata": {},
     "output_type": "execute_result"
    }
   ],
   "source": [
    "getindex_0(2, 1, S)"
   ]
  },
  {
   "cell_type": "code",
   "execution_count": 6,
   "metadata": {
    "collapsed": false
   },
   "outputs": [
    {
     "data": {
      "text/plain": [
       "p (generic function with 1 method)"
      ]
     },
     "execution_count": 6,
     "metadata": {},
     "output_type": "execute_result"
    }
   ],
   "source": [
    "function p(age, serv)\n",
    "    return (1 - (age - serv)/5) * (50 - 2.5 * age - 2.5 * age^2)\n",
    "end"
   ]
  },
  {
   "cell_type": "code",
   "execution_count": 7,
   "metadata": {
    "collapsed": false
   },
   "outputs": [
    {
     "data": {
      "text/plain": [
       "28.0"
      ]
     },
     "execution_count": 7,
     "metadata": {},
     "output_type": "execute_result"
    }
   ],
   "source": [
    "p(2, 1)"
   ]
  },
  {
   "cell_type": "code",
   "execution_count": 8,
   "metadata": {
    "collapsed": false
   },
   "outputs": [
    {
     "data": {
      "text/plain": [
       "25×3 Array{Float64,2}:\n",
       "   36.0    35.0  -25.0\n",
       "   45.0    44.0  -25.0\n",
       "   54.0    53.0  -25.0\n",
       "   63.0    62.0  -25.0\n",
       "   72.0    71.0  -25.0\n",
       "   21.0    18.0  -25.0\n",
       "   28.0    25.0  -25.0\n",
       "   35.0    32.0  -25.0\n",
       "   42.0    39.0  -25.0\n",
       "   49.0    46.0  -25.0\n",
       "    8.0     2.0  -25.0\n",
       "   12.0     6.0  -25.0\n",
       "   16.0    10.0  -25.0\n",
       "   20.0    14.0  -25.0\n",
       "   24.0    18.0  -25.0\n",
       "    0.0   -10.0  -25.0\n",
       "    0.0   -10.0  -25.0\n",
       "    0.0   -10.0  -25.0\n",
       "    0.0   -10.0  -25.0\n",
       "    0.0   -10.0  -25.0\n",
       " -Inf    -Inf    -25.0\n",
       " -Inf    -Inf    -25.0\n",
       " -Inf    -Inf    -25.0\n",
       " -Inf    -Inf    -25.0\n",
       " -Inf    -Inf    -25.0"
      ]
     },
     "execution_count": 8,
     "metadata": {},
     "output_type": "execute_result"
    }
   ],
   "source": [
    "R = Array{Float64}(n, m)\n",
    "for i in 1:n\n",
    "    R[i, 1] = p(S[i][1], S[i][2])\n",
    "    R[i, 2] = p(S[i][1], S[i][2]+1) - mancost\n",
    "    R[i, 3] = p(0, 0) - repcost\n",
    "end\n",
    "\n",
    "for j in n-maxage+1:n\n",
    "    R[j, 1] = -Inf\n",
    "    R[j, 2] = -Inf\n",
    "end\n",
    "\n",
    "R"
   ]
  },
  {
   "cell_type": "code",
   "execution_count": 9,
   "metadata": {
    "collapsed": false
   },
   "outputs": [
    {
     "data": {
      "text/plain": [
       "25×3×25 Array{Float64,3}:\n",
       "[:, :, 1] =\n",
       " 0.0  0.0  1.0\n",
       " 0.0  0.0  1.0\n",
       " 0.0  0.0  1.0\n",
       " 0.0  0.0  1.0\n",
       " 0.0  0.0  1.0\n",
       " 0.0  0.0  1.0\n",
       " 0.0  0.0  1.0\n",
       " 0.0  0.0  1.0\n",
       " 0.0  0.0  1.0\n",
       " 0.0  0.0  1.0\n",
       " 0.0  0.0  1.0\n",
       " 0.0  0.0  1.0\n",
       " 0.0  0.0  1.0\n",
       " 0.0  0.0  1.0\n",
       " 0.0  0.0  1.0\n",
       " 0.0  0.0  1.0\n",
       " 0.0  0.0  1.0\n",
       " 0.0  0.0  1.0\n",
       " 0.0  0.0  1.0\n",
       " 0.0  0.0  1.0\n",
       " 0.0  0.0  1.0\n",
       " 0.0  0.0  1.0\n",
       " 0.0  0.0  1.0\n",
       " 0.0  0.0  1.0\n",
       " 0.0  0.0  1.0\n",
       "\n",
       "[:, :, 2] =\n",
       " 0.0  0.0  0.0\n",
       " 0.0  0.0  0.0\n",
       " 0.0  0.0  0.0\n",
       " 0.0  0.0  0.0\n",
       " 0.0  0.0  0.0\n",
       " 0.0  0.0  0.0\n",
       " 0.0  0.0  0.0\n",
       " 0.0  0.0  0.0\n",
       " 0.0  0.0  0.0\n",
       " 0.0  0.0  0.0\n",
       " 0.0  0.0  0.0\n",
       " 0.0  0.0  0.0\n",
       " 0.0  0.0  0.0\n",
       " 0.0  0.0  0.0\n",
       " 0.0  0.0  0.0\n",
       " 0.0  0.0  0.0\n",
       " 0.0  0.0  0.0\n",
       " 0.0  0.0  0.0\n",
       " 0.0  0.0  0.0\n",
       " 0.0  0.0  0.0\n",
       " 0.0  0.0  0.0\n",
       " 0.0  0.0  0.0\n",
       " 0.0  0.0  0.0\n",
       " 0.0  0.0  0.0\n",
       " 0.0  0.0  0.0\n",
       "\n",
       "[:, :, 3] =\n",
       " 0.0  0.0  0.0\n",
       " 0.0  0.0  0.0\n",
       " 0.0  0.0  0.0\n",
       " 0.0  0.0  0.0\n",
       " 0.0  0.0  0.0\n",
       " 0.0  0.0  0.0\n",
       " 0.0  0.0  0.0\n",
       " 0.0  0.0  0.0\n",
       " 0.0  0.0  0.0\n",
       " 0.0  0.0  0.0\n",
       " 0.0  0.0  0.0\n",
       " 0.0  0.0  0.0\n",
       " 0.0  0.0  0.0\n",
       " 0.0  0.0  0.0\n",
       " 0.0  0.0  0.0\n",
       " 0.0  0.0  0.0\n",
       " 0.0  0.0  0.0\n",
       " 0.0  0.0  0.0\n",
       " 0.0  0.0  0.0\n",
       " 0.0  0.0  0.0\n",
       " 0.0  0.0  0.0\n",
       " 0.0  0.0  0.0\n",
       " 0.0  0.0  0.0\n",
       " 0.0  0.0  0.0\n",
       " 0.0  0.0  0.0\n",
       "\n",
       "...\n",
       "\n",
       "[:, :, 23] =\n",
       " 0.0  0.0  0.0\n",
       " 0.0  0.0  0.0\n",
       " 0.0  0.0  0.0\n",
       " 0.0  0.0  0.0\n",
       " 0.0  0.0  0.0\n",
       " 0.0  0.0  0.0\n",
       " 0.0  0.0  0.0\n",
       " 0.0  0.0  0.0\n",
       " 0.0  0.0  0.0\n",
       " 0.0  0.0  0.0\n",
       " 0.0  0.0  0.0\n",
       " 0.0  0.0  0.0\n",
       " 0.0  0.0  0.0\n",
       " 0.0  0.0  0.0\n",
       " 0.0  0.0  0.0\n",
       " 0.0  0.0  0.0\n",
       " 0.0  1.0  0.0\n",
       " 1.0  0.0  0.0\n",
       " 0.0  0.0  0.0\n",
       " 0.0  0.0  0.0\n",
       " 0.0  0.0  0.0\n",
       " 0.0  1.0  0.0\n",
       " 1.0  0.0  0.0\n",
       " 0.0  0.0  0.0\n",
       " 0.0  0.0  0.0\n",
       "\n",
       "[:, :, 24] =\n",
       " 0.0  0.0  0.0\n",
       " 0.0  0.0  0.0\n",
       " 0.0  0.0  0.0\n",
       " 0.0  0.0  0.0\n",
       " 0.0  0.0  0.0\n",
       " 0.0  0.0  0.0\n",
       " 0.0  0.0  0.0\n",
       " 0.0  0.0  0.0\n",
       " 0.0  0.0  0.0\n",
       " 0.0  0.0  0.0\n",
       " 0.0  0.0  0.0\n",
       " 0.0  0.0  0.0\n",
       " 0.0  0.0  0.0\n",
       " 0.0  0.0  0.0\n",
       " 0.0  0.0  0.0\n",
       " 0.0  0.0  0.0\n",
       " 0.0  0.0  0.0\n",
       " 0.0  1.0  0.0\n",
       " 1.0  0.0  0.0\n",
       " 0.0  0.0  0.0\n",
       " 0.0  0.0  0.0\n",
       " 0.0  0.0  0.0\n",
       " 0.0  1.0  0.0\n",
       " 1.0  0.0  0.0\n",
       " 0.0  0.0  0.0\n",
       "\n",
       "[:, :, 25] =\n",
       " 0.0  0.0  0.0\n",
       " 0.0  0.0  0.0\n",
       " 0.0  0.0  0.0\n",
       " 0.0  0.0  0.0\n",
       " 0.0  0.0  0.0\n",
       " 0.0  0.0  0.0\n",
       " 0.0  0.0  0.0\n",
       " 0.0  0.0  0.0\n",
       " 0.0  0.0  0.0\n",
       " 0.0  0.0  0.0\n",
       " 0.0  0.0  0.0\n",
       " 0.0  0.0  0.0\n",
       " 0.0  0.0  0.0\n",
       " 0.0  0.0  0.0\n",
       " 0.0  0.0  0.0\n",
       " 0.0  0.0  0.0\n",
       " 0.0  0.0  0.0\n",
       " 0.0  0.0  0.0\n",
       " 0.0  1.0  0.0\n",
       " 1.0  1.0  0.0\n",
       " 0.0  0.0  0.0\n",
       " 0.0  0.0  0.0\n",
       " 0.0  0.0  0.0\n",
       " 0.0  1.0  0.0\n",
       " 1.0  1.0  0.0"
      ]
     },
     "execution_count": 9,
     "metadata": {},
     "output_type": "execute_result"
    }
   ],
   "source": [
    "Q = zeros(n, m, n)\n",
    "for i in 1:n\n",
    "    Q[i, 1, getindex_0(min(S[i][1]+1, maxage), S[i][2], S)] = 1\n",
    "    Q[i, 2, getindex_0(min(S[i][1]+1, maxage), min(S[i][2]+1, maxage-1), S)] = 1\n",
    "    Q[i, 3, getindex_0(1, 0, S)] = 1\n",
    "end\n",
    "\n",
    "Q"
   ]
  },
  {
   "cell_type": "code",
   "execution_count": 10,
   "metadata": {
    "collapsed": true
   },
   "outputs": [],
   "source": [
    "using QuantEcon"
   ]
  },
  {
   "cell_type": "code",
   "execution_count": 11,
   "metadata": {
    "collapsed": false
   },
   "outputs": [
    {
     "data": {
      "text/plain": [
       "QuantEcon.DiscreteDP{Float64,3,2,Float64,Int64}([36.0 35.0 -25.0; 45.0 44.0 -25.0; … ; -Inf -Inf -25.0; -Inf -Inf -25.0], [0.0 0.0 1.0; 0.0 0.0 1.0; … ; 0.0 0.0 1.0; 0.0 0.0 1.0]\n",
       "\n",
       "[0.0 0.0 0.0; 0.0 0.0 0.0; … ; 0.0 0.0 0.0; 0.0 0.0 0.0]\n",
       "\n",
       "[0.0 0.0 0.0; 0.0 0.0 0.0; … ; 0.0 0.0 0.0; 0.0 0.0 0.0]\n",
       "\n",
       "...\n",
       "\n",
       "[0.0 0.0 0.0; 0.0 0.0 0.0; … ; 0.0 0.0 0.0; 0.0 0.0 0.0]\n",
       "\n",
       "[0.0 0.0 0.0; 0.0 0.0 0.0; … ; 1.0 0.0 0.0; 0.0 0.0 0.0]\n",
       "\n",
       "[0.0 0.0 0.0; 0.0 0.0 0.0; … ; 0.0 1.0 0.0; 1.0 1.0 0.0], 0.9, Nullable{Array{Int64,1}}(), Nullable{Array{Int64,1}}())"
      ]
     },
     "execution_count": 11,
     "metadata": {},
     "output_type": "execute_result"
    }
   ],
   "source": [
    "ddp = DiscreteDP(R, Q, beta)"
   ]
  },
  {
   "cell_type": "code",
   "execution_count": 12,
   "metadata": {
    "collapsed": false
   },
   "outputs": [
    {
     "data": {
      "text/plain": [
       "QuantEcon.DPSolveResult{QuantEcon.PFI,Float64}([151.89, 170.43, 188.97, 206.97, 216.97, 121.531, 129.878, 140.478, 151.078, 161.078  …  111.701, 111.701, 111.701, 111.701, 111.701, 111.701, 111.701, 111.701, 111.701, 111.701], [151.89, 170.43, 188.97, 206.97, 216.97, 121.531, 129.878, 140.478, 151.078, 161.078  …  111.701, 111.701, 111.701, 111.701, 111.701, 111.701, 111.701, 111.701, 111.701, 111.701], 3, [2, 2, 2, 2, 1, 1, 2, 2, 2, 1  …  3, 3, 3, 3, 3, 3, 3, 3, 3, 3], Discrete Markov Chain\n",
       "stochastic matrix of type Array{Float64,2}:\n",
       "[0.0 0.0 … 0.0 0.0; 0.0 0.0 … 0.0 0.0; … ; 1.0 0.0 … 0.0 0.0; 1.0 0.0 … 0.0 0.0])"
      ]
     },
     "execution_count": 12,
     "metadata": {},
     "output_type": "execute_result"
    }
   ],
   "source": [
    "res = solve(ddp, PFI)"
   ]
  },
  {
   "cell_type": "code",
   "execution_count": 13,
   "metadata": {
    "collapsed": false
   },
   "outputs": [
    {
     "data": {
      "text/html": [
       "3"
      ],
      "text/plain": [
       "3"
      ]
     },
     "execution_count": 13,
     "metadata": {},
     "output_type": "execute_result"
    }
   ],
   "source": [
    "res.num_iter"
   ]
  },
  {
   "cell_type": "code",
   "execution_count": 14,
   "metadata": {
    "collapsed": false
   },
   "outputs": [
    {
     "data": {
      "text/plain": [
       "25-element Array{Int64,1}:\n",
       " 2\n",
       " 2\n",
       " 2\n",
       " 2\n",
       " 1\n",
       " 1\n",
       " 2\n",
       " 2\n",
       " 2\n",
       " 1\n",
       " 3\n",
       " 1\n",
       " 1\n",
       " 1\n",
       " 1\n",
       " 3\n",
       " 3\n",
       " 3\n",
       " 3\n",
       " 3\n",
       " 3\n",
       " 3\n",
       " 3\n",
       " 3\n",
       " 3"
      ]
     },
     "execution_count": 14,
     "metadata": {},
     "output_type": "execute_result"
    }
   ],
   "source": [
    "res.sigma"
   ]
  },
  {
   "cell_type": "code",
   "execution_count": 15,
   "metadata": {
    "collapsed": false
   },
   "outputs": [
    {
     "name": "stdout",
     "output_type": "stream",
     "text": [
      "(1, 0)2(2, 0)1(2, 1)2(3, 0)3(3, 1)1(3, 2)1(4, 0)3(4, 1)3(4, 2)3(4, 3)3(5, 0)3(5, 1)3(5, 2)3(5, 3)3(5, 4)3"
     ]
    }
   ],
   "source": [
    "for i in 1:n\n",
    "    if S[i][1] > S[i][2]\n",
    "        print(S[i], res.sigma[i])\n",
    "    end\n",
    "end"
   ]
  },
  {
   "cell_type": "code",
   "execution_count": 19,
   "metadata": {
    "collapsed": false
   },
   "outputs": [
    {
     "ename": "LoadError",
     "evalue": "\u001b[91mMethodError: Cannot `convert` an object of type Array{Tuple{Int64,Int64},1} to an object of type UnitRange{Int64}\nThis may have arisen from a call to the constructor UnitRange{Int64}(...),\nsince type constructors fall back to convert methods.\u001b[39m",
     "output_type": "error",
     "traceback": [
      "\u001b[91mMethodError: Cannot `convert` an object of type Array{Tuple{Int64,Int64},1} to an object of type UnitRange{Int64}\nThis may have arisen from a call to the constructor UnitRange{Int64}(...),\nsince type constructors fall back to convert methods.\u001b[39m",
      ""
     ]
    }
   ],
   "source": [
    "res.mc.state_values = S\n",
    "initial_state_value = [1, 0]\n",
    "nyrs = 12\n",
    "spath = simulate(res.mc, nyrs+1, init=initial_state_value)"
   ]
  },
  {
   "cell_type": "code",
   "execution_count": null,
   "metadata": {
    "collapsed": true
   },
   "outputs": [],
   "source": []
  }
 ],
 "metadata": {
  "kernelspec": {
   "display_name": "Julia 0.6.0",
   "language": "julia",
   "name": "julia-0.6"
  },
  "language_info": {
   "file_extension": ".jl",
   "mimetype": "application/julia",
   "name": "julia",
   "version": "0.6.0"
  }
 },
 "nbformat": 4,
 "nbformat_minor": 2
}
